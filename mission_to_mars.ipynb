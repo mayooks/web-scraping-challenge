{
 "cells": [
  {
   "cell_type": "code",
   "execution_count": 1,
   "id": "a70aa63d",
   "metadata": {},
   "outputs": [],
   "source": [
    "from splinter import Browser\n",
    "from bs4 import BeautifulSoup \n",
    "from webdriver_manager.chrome import ChromeDriverManager\n",
    "import requests\n",
    "import time\n",
    "import pandas as pd"
   ]
  },
  {
   "cell_type": "code",
   "execution_count": 2,
   "id": "92a37afe",
   "metadata": {},
   "outputs": [
    {
     "name": "stdout",
     "output_type": "stream",
     "text": [
      "\n"
     ]
    },
    {
     "name": "stderr",
     "output_type": "stream",
     "text": [
      "[WDM] - ====== WebDriver manager ======\n",
      "INFO:WDM:====== WebDriver manager ======\n",
      "[WDM] - Current google-chrome version is 103.0.5060\n",
      "INFO:WDM:Current google-chrome version is 103.0.5060\n",
      "[WDM] - Get LATEST chromedriver version for 103.0.5060 google-chrome\n",
      "INFO:WDM:Get LATEST chromedriver version for 103.0.5060 google-chrome\n",
      "[WDM] - About to download new driver from https://chromedriver.storage.googleapis.com/103.0.5060.53/chromedriver_mac64.zip\n",
      "INFO:WDM:About to download new driver from https://chromedriver.storage.googleapis.com/103.0.5060.53/chromedriver_mac64.zip\n",
      "[WDM] - Driver has been saved in cache [/Users/user/.wdm/drivers/chromedriver/mac64/103.0.5060.53]\n",
      "INFO:WDM:Driver has been saved in cache [/Users/user/.wdm/drivers/chromedriver/mac64/103.0.5060.53]\n"
     ]
    }
   ],
   "source": [
    "executable_path = {'executable_path': ChromeDriverManager().install()}\n",
    "browser = Browser('chrome', **executable_path, headless=False)"
   ]
  },
  {
   "cell_type": "code",
   "execution_count": 45,
   "id": "0c2b9b9b",
   "metadata": {},
   "outputs": [
    {
     "data": {
      "text/plain": [
       "'/Users/user/Documents/GitHub/web-scraping-challenge/Missions_to_Mars'"
      ]
     },
     "execution_count": 45,
     "metadata": {},
     "output_type": "execute_result"
    }
   ],
   "source": [
    "pwd"
   ]
  },
  {
   "cell_type": "markdown",
   "id": "e5230620",
   "metadata": {},
   "source": [
    "-------------------------------------------------------------------------------------------"
   ]
  },
  {
   "cell_type": "code",
   "execution_count": 25,
   "id": "77b4d910",
   "metadata": {},
   "outputs": [
    {
     "name": "stdout",
     "output_type": "stream",
     "text": [
      "\n"
     ]
    },
    {
     "name": "stderr",
     "output_type": "stream",
     "text": [
      "[WDM] - ====== WebDriver manager ======\n",
      "INFO:WDM:====== WebDriver manager ======\n",
      "[WDM] - Current google-chrome version is 103.0.5060\n",
      "INFO:WDM:Current google-chrome version is 103.0.5060\n",
      "[WDM] - Get LATEST chromedriver version for 103.0.5060 google-chrome\n",
      "INFO:WDM:Get LATEST chromedriver version for 103.0.5060 google-chrome\n",
      "[WDM] - Driver [/Users/user/.wdm/drivers/chromedriver/mac64/103.0.5060.53/chromedriver] found in cache\n",
      "INFO:WDM:Driver [/Users/user/.wdm/drivers/chromedriver/mac64/103.0.5060.53/chromedriver] found in cache\n"
     ]
    }
   ],
   "source": [
    "# setting up splinter\n",
    "executable_path = {'executable_path': ChromeDriverManager().install()}\n",
    "browser = Browser('chrome', **executable_path, headless=False)\n",
    "\n",
    "# visiting the homepage\n",
    "url = 'https://redplanetscience.com/'\n",
    "browser.visit(url)\n",
    "\n",
    "headlines = []\n",
    "\n",
    "# scrapping the data\n",
    "for x in range(0, 15):\n",
    "    time.sleep(1)\n",
    "\n",
    "    html = browser.html\n",
    "    soup = bs(html, 'html.parser')\n",
    "\n",
    "    results = {}\n",
    "\n",
    "\n",
    "    titles = soup.findAll(name ='div', attrs=\"content_title\" )\n",
    "    #for title in titles:\n",
    "        #print(title.text)\n",
    "\n",
    "    results['titles']= browser.find_by_css(\"div.content_title\")[x].text\n",
    "    results['teaser'] = browser.find_by_css(\"div.article_teaser_body\")[x].text\n",
    "\n",
    "\n",
    "\n",
    "\n",
    "    #for headline, teaser_text in zip (headline_titles, teaser_paragraph):\n",
    "       # results['titles'] = headline.text\n",
    "       # results['teaser'] = teaser_text.text\n",
    "\n",
    "    headlines.append(results)\n",
    "    time.sleep(2)\n",
    "\n",
    "    #browser.quit()\n",
    "\n",
    "        #print('page:', x, '--------------------------------------')\n",
    "        #print(headline.text)\n",
    "        #print(\"\")\n",
    "        #print( teaser_text.text)\n",
    "    "
   ]
  },
  {
   "cell_type": "code",
   "execution_count": 26,
   "id": "44b0fcdc",
   "metadata": {},
   "outputs": [
    {
     "data": {
      "text/plain": [
       "[{'titles': 'The MarCO Mission Comes to an End',\n",
       "  'teaser': 'The pair of briefcase-sized satellites made history when they sailed past Mars in 2019.'},\n",
       " {'titles': \"Nine Finalists Chosen in NASA's Mars 2020 Rover Naming Contest\",\n",
       "  'teaser': \"Nine finalists have been chosen in the essay contest for K-12 students across U.S. to name NASA's next Mars rover. Now you can help by voting for your favorite.\"},\n",
       " {'titles': 'Global Storms on Mars Launch Dust Towers Into the Sky',\n",
       "  'teaser': 'A Mars Dust Tower Stands Out Dust storms are common on Mars. But every decade or so, something unpredictable happens: a series of runaway storms break out, covering the entire planet in a dusty haze.'},\n",
       " {'titles': 'NASA Administrator Statement on Moon to Mars Initiative, FY 2021 Budget',\n",
       "  'teaser': \"Jim Bridenstine addresses NASA's ambitious plans for the coming years, including Mars Sample Return.\"},\n",
       " {'titles': \"A New Video Captures the Science of NASA's Perseverance Mars Rover\",\n",
       "  'teaser': 'With a targeted launch date of July 30, the next robotic scientist NASA is sending to the to the Red Planet has big ambitions.'},\n",
       " {'titles': \"NASA's Mars 2020 Will Hunt for Microscopic Fossils\",\n",
       "  'teaser': \"A new paper identifies a ring of minerals at the rover's landing site that are ideal for fossilizing microbial life.\"},\n",
       " {'titles': \"Newfound Martian Aurora Actually the Most Common; Sheds Light on Mars' Changing Climate\",\n",
       "  'teaser': 'A type of Martian aurora first identified by NASA’s MAVEN spacecraft in 2016 is actually the most common form of aurora occurring on the Red Planet, according to new results from the mission.'},\n",
       " {'titles': 'With Mars Methane Mystery Unsolved, Curiosity Serves Scientists a New One: Oxygen',\n",
       "  'teaser': 'For the first time in the history of space exploration, scientists have measured the seasonal changes in the gases that fill the air directly above the surface of Gale Crater on Mars.'},\n",
       " {'titles': 'NASA Moves Forward With Campaign to Return Mars Samples to Earth',\n",
       "  'teaser': 'During this next phase, the program will mature critical technologies and make critical design decisions as well as assess industry partnerships.'},\n",
       " {'titles': \"A Year of Surprising Science From NASA's InSight Mars Mission\",\n",
       "  'teaser': \"A batch of new papers summarizes the lander's findings above and below the surface of the Red Planet.\"},\n",
       " {'titles': \"NASA's Perseverance Rover Will Peer Beneath Mars' Surface\",\n",
       "  'teaser': \"The agency's newest rover will use the first ground-penetrating radar instrument on the Martian surface to help search for signs of past microbial life.\"},\n",
       " {'titles': \"NASA's New Mars Rover Is Ready for Space Lasers\",\n",
       "  'teaser': 'Perseverance is one of a few Mars spacecraft carrying laser retroreflectors. The devices could provide new science and safer Mars landings in the future.'},\n",
       " {'titles': \"NASA's New Mars Rover Will Use X-Rays to Hunt Fossils\",\n",
       "  'teaser': \"PIXL, an instrument on the end of the Perseverance rover's arm, will search for chemical fingerprints left by ancient microbes.\"},\n",
       " {'titles': 'NASA Adds Return Sample Scientists to Mars 2020 Leadership Team',\n",
       "  'teaser': 'The leadership council for Mars 2020 science added two new members who represent the interests of scientists destined to handle and study the first samples from Red Planet.'},\n",
       " {'titles': \"NASA's Ingenuity Mars Helicopter Recharges Its Batteries in Flight\",\n",
       "  'teaser': 'Headed to the Red Planet with the Perseverance rover, the pioneering helicopter is powered up for the first time in interplanetary space as part of a systems check.'}]"
      ]
     },
     "execution_count": 26,
     "metadata": {},
     "output_type": "execute_result"
    }
   ],
   "source": [
    "headlines"
   ]
  },
  {
   "cell_type": "markdown",
   "id": "503307cd",
   "metadata": {},
   "source": [
    "-------------------------------------------------------------------------------------------"
   ]
  },
  {
   "cell_type": "code",
   "execution_count": 33,
   "id": "b9850bbd",
   "metadata": {},
   "outputs": [
    {
     "name": "stdout",
     "output_type": "stream",
     "text": [
      "https://spaceimages-mars.com/image/featured/mars1.jpg\n"
     ]
    }
   ],
   "source": [
    "    url = 'https://spaceimages-mars.com/'\n",
    "    browser.visit(url)\n",
    "\n",
    "    html = browser.html\n",
    "    soup = BeautifulSoup(html, 'html.parser')\n",
    "\n",
    "    featured_image_link = url + soup.find('img', class_=\"headerimage\")[\"src\"]\n",
    "\n",
    "    print(featured_image_link )\n",
    "    #featured_image_url = url + featured_image_link['src']\n",
    "\n",
    "    #print(featured_image_link[\"src\"])\n",
    "\n",
    "    #print(featured_image_url[\"src\"])"
   ]
  },
  {
   "cell_type": "markdown",
   "id": "8b2f9095",
   "metadata": {},
   "source": [
    "-------------------------------------------------------------------------------------------"
   ]
  },
  {
   "cell_type": "code",
   "execution_count": 24,
   "id": "b7e0b572",
   "metadata": {},
   "outputs": [
    {
     "name": "stderr",
     "output_type": "stream",
     "text": [
      "/Users/user/opt/anaconda3/envs/PythonData/lib/python3.7/site-packages/pandas/core/internals/construction.py:540: VisibleDeprecationWarning: Creating an ndarray from ragged nested sequences (which is a list-or-tuple of lists-or-tuples-or ndarrays with different lengths or shapes) is deprecated. If you meant to do this, you must specify 'dtype=object' when creating the ndarray.\n",
      "  values = np.array([convert(v) for v in values])\n"
     ]
    },
    {
     "data": {
      "text/plain": [
       "'<table border=\"1\" class=\"dataframe\">\\n  <thead>\\n    <tr style=\"text-align: right;\">\\n      <th></th>\\n      <th>0</th>\\n    </tr>\\n  </thead>\\n  <tbody>\\n    <tr>\\n      <th>0</th>\\n      <td>0                1                2\\n0  Mars - Earth Comparison             Mars            Earth\\n1                Diameter:         6,779 km        12,742 km\\n2                    Mass:  6.39 × 10^23 kg  5.97 × 10^24 kg\\n3                   Moons:                2                1\\n4       Distance from Sun:   227,943,824 km   149,598,262 km\\n5          Length of Year:   687 Earth days      365.24 days\\n6             Temperature:     -87 to -5 °C      -88 to 58°C</td>\\n    </tr>\\n    <tr>\\n      <th>1</th>\\n      <td>0                              1\\n0  Equatorial Diameter:                       6,792 km\\n1       Polar Diameter:                       6,752 km\\n2                 Mass:  6.39 × 10^23 kg (0.11 Earths)\\n3                Moons:          2 ( Phobos &amp; Deimos )\\n4       Orbit Distance:       227,943,824 km (1.38 AU)\\n5         Orbit Period:           687 days (1.9 years)\\n6  Surface Temperature:                   -87 to -5 °C\\n7         First Record:              2nd millennium BC\\n8          Recorded By:           Egyptian astronomers</td>\\n    </tr>\\n  </tbody>\\n</table>'"
      ]
     },
     "execution_count": 24,
     "metadata": {},
     "output_type": "execute_result"
    }
   ],
   "source": [
    "#url for reading the SS table with state names and abbreviations\n",
    "url = \"https://galaxyfacts-mars.com/\"\n",
    "\n",
    "facts_about_mars =pd.read_html(url)\n",
    "\n",
    "\n",
    "mars_facts_df = pd.DataFrame(facts_about_mars)\n",
    "\n",
    "## DataFrames as HTML\n",
    "mars_planet_profile_html = mars_facts_df.to_html()\n",
    "\n",
    "#### removing unwanted newlines to clean up the table.\n",
    "#mars_planet_profile_html.replace('\\n', '')\n",
    "\n",
    "#show table\n",
    "mars_planet_profile_html\n",
    "\n",
    "listings[\"mars_table\"]= mars_planet_profile_html"
   ]
  },
  {
   "cell_type": "markdown",
   "id": "74ba3fd6",
   "metadata": {},
   "source": [
    "-------------------------------------------------------------------------------------------"
   ]
  },
  {
   "cell_type": "code",
   "execution_count": 4,
   "id": "f39758e4",
   "metadata": {},
   "outputs": [
    {
     "name": "stdout",
     "output_type": "stream",
     "text": [
      "\n"
     ]
    },
    {
     "name": "stderr",
     "output_type": "stream",
     "text": [
      "[WDM] - ====== WebDriver manager ======\n",
      "INFO:WDM:====== WebDriver manager ======\n",
      "[WDM] - Current google-chrome version is 103.0.5060\n",
      "INFO:WDM:Current google-chrome version is 103.0.5060\n",
      "[WDM] - Get LATEST chromedriver version for 103.0.5060 google-chrome\n",
      "INFO:WDM:Get LATEST chromedriver version for 103.0.5060 google-chrome\n",
      "[WDM] - Driver [/Users/user/.wdm/drivers/chromedriver/mac64/103.0.5060.53/chromedriver] found in cache\n",
      "INFO:WDM:Driver [/Users/user/.wdm/drivers/chromedriver/mac64/103.0.5060.53/chromedriver] found in cache\n"
     ]
    },
    {
     "name": "stdout",
     "output_type": "stream",
     "text": [
      "[{'title': 'Cerberus Hemisphere Enhanced', 'img_url': 'https://marshemispheres.com/images/cerberus_enhanced.tif'}, {'title': 'Schiaparelli Hemisphere Enhanced', 'img_url': 'https://marshemispheres.com/images/schiaparelli_enhanced.tif'}, {'title': 'Syrtis Major Hemisphere Enhanced', 'img_url': 'https://marshemispheres.com/images/syrtis_major_enhanced.tif'}, {'title': 'Valles Marineris Hemisphere Enhanced', 'img_url': 'https://marshemispheres.com/images/valles_marineris_enhanced.tif'}]\n"
     ]
    }
   ],
   "source": [
    " #set up splinter\n",
    "executable_path = {'executable_path': ChromeDriverManager().install()}\n",
    "browser = Browser('chrome', **executable_path, headless=False)\n",
    "\n",
    "\n",
    "# go to the website\n",
    "url = 'https://marshemispheres.com/'\n",
    "browser.visit(url)\n",
    "\n",
    "\n",
    "# grabbing all links to the images on homepage\n",
    "links = browser.find_by_css(\"a.product-item img\")\n",
    "\n",
    "img_urls = []\n",
    "\n",
    "\n",
    "# finding the the title and link of every image\n",
    "for i in range(len(links)):\n",
    "    results = {}\n",
    "\n",
    "    browser.find_by_css(\"a.product-item img\")[i].click()\n",
    "    #link.click()\n",
    "    time.sleep(1)\n",
    "# appending the scrapped data to the results dictionary    \n",
    "    element = browser.links.find_by_text(\"Original\").first\n",
    "    results[\"title\"] = browser.find_by_css(\"h2.title\").text\n",
    "    results[\"img_url\"] = element[\"href\"]\n",
    "\n",
    "\n",
    "# appening the results dictionary into the img_urls list    \n",
    "    img_urls.append(results)\n",
    "    browser.back()\n",
    "    time.sleep(1)\n",
    "# close the browser\n",
    "    #browser.quit()\n",
    "print(img_urls)"
   ]
  },
  {
   "cell_type": "code",
   "execution_count": 5,
   "id": "ec18efa0",
   "metadata": {},
   "outputs": [
    {
     "data": {
      "text/plain": [
       "{'title': 'Valles Marineris Hemisphere Enhanced',\n",
       " 'img_url': 'https://marshemispheres.com/images/valles_marineris_enhanced.tif'}"
      ]
     },
     "execution_count": 5,
     "metadata": {},
     "output_type": "execute_result"
    }
   ],
   "source": [
    "results"
   ]
  },
  {
   "cell_type": "code",
   "execution_count": 7,
   "id": "aaf9dd61",
   "metadata": {},
   "outputs": [
    {
     "data": {
      "text/plain": [
       "[{'title': 'Cerberus Hemisphere Enhanced',\n",
       "  'img_url': 'images/39d3266553462198bd2fbc4d18fbed17_cerberus_enhanced.tif_thumb.png'},\n",
       " {'title': 'Schiaparelli Hemisphere Enhanced',\n",
       "  'img_url': 'images/08eac6e22c07fb1fe72223a79252de20_schiaparelli_enhanced.tif_thumb.png'},\n",
       " {'title': 'Syrtis Major Hemisphere Enhanced',\n",
       "  'img_url': 'images/55a0a1e2796313fdeafb17c35925e8ac_syrtis_major_enhanced.tif_thumb.png'},\n",
       " {'title': 'Valles Marineris Hemisphere Enhanced',\n",
       "  'img_url': 'images/4e59980c1c57f89c680c0e1ccabbeff1_valles_marineris_enhanced.tif_thumb.png'}]"
      ]
     },
     "execution_count": 7,
     "metadata": {},
     "output_type": "execute_result"
    }
   ],
   "source": [
    "# Return all the HTML on our page\n",
    "html = browser.html\n",
    "\n",
    "# Create Beautiful Soup object, pass in our html and parse with html.parser'\n",
    "soup = BeautifulSoup(html, \"html.parser\")\n",
    "\n",
    "\n",
    "# Obtain high-resolution images for each hemisphere of Mars from 'https://marshemispheres.com/'\n",
    "\n",
    "# The url we want to scrape\n",
    "url_hemi = 'https://marshemispheres.com/'\n",
    "\n",
    "# Call visit on our browser and pass the url we want to scrape\n",
    "browser.visit(url_hemi)\n",
    "\n",
    "\n",
    "\n",
    "results = soup.find_all('div', class_='item')\n",
    "\n",
    "# Create empty list for hemisphere title and image results\n",
    "hemisphere_image_urls=[]\n",
    "\n",
    "# Retrieve each list item\n",
    "\n",
    "for result in results:\n",
    "    title = result.find('h3').get_text()\n",
    "    img_url = result.find('img', class_='thumb')['src']\n",
    "    hemisphere_image_urls.append({'title': title,'img_url':img_url})\n",
    "# Print Result\n",
    "hemisphere_image_urls"
   ]
  },
  {
   "cell_type": "code",
   "execution_count": 8,
   "id": "86962634",
   "metadata": {},
   "outputs": [
    {
     "name": "stdout",
     "output_type": "stream",
     "text": [
      "\n"
     ]
    },
    {
     "name": "stderr",
     "output_type": "stream",
     "text": [
      "[WDM] - ====== WebDriver manager ======\n",
      "INFO:WDM:====== WebDriver manager ======\n",
      "[WDM] - Current google-chrome version is 103.0.5060\n",
      "INFO:WDM:Current google-chrome version is 103.0.5060\n",
      "[WDM] - Get LATEST chromedriver version for 103.0.5060 google-chrome\n",
      "INFO:WDM:Get LATEST chromedriver version for 103.0.5060 google-chrome\n",
      "[WDM] - Driver [/Users/user/.wdm/drivers/chromedriver/mac64/103.0.5060.53/chromedriver] found in cache\n",
      "INFO:WDM:Driver [/Users/user/.wdm/drivers/chromedriver/mac64/103.0.5060.53/chromedriver] found in cache\n",
      "/Users/user/opt/anaconda3/envs/PythonData/lib/python3.7/site-packages/pandas/core/internals/construction.py:540: VisibleDeprecationWarning: Creating an ndarray from ragged nested sequences (which is a list-or-tuple of lists-or-tuples-or ndarrays with different lengths or shapes) is deprecated. If you meant to do this, you must specify 'dtype=object' when creating the ndarray.\n",
      "  values = np.array([convert(v) for v in values])\n"
     ]
    }
   ],
   "source": [
    "# Setup splinter\n",
    "# browser = init_browser()\n",
    "executable_path = {'executable_path': ChromeDriverManager().install()}\n",
    "browser = Browser('chrome', **executable_path, headless=False)\n",
    "\n",
    "# Set an empty dict for listings that we can save to Mongo\n",
    "listings = {}\n",
    "\n",
    "# The url we want to scrape\n",
    "url = \"https://marshemispheres.com/\"\n",
    "\n",
    "# Call visit on our browser and pass in the URL we want to scrape   \n",
    "browser.visit(url)\n",
    "\n",
    "# Let it sleep for 1 second\n",
    "time.sleep(1)\n",
    "\n",
    "# Return all the HTML on our page\n",
    "html = browser.html\n",
    "\n",
    "######################################################################\n",
    "url = 'https://spaceimages-mars.com/'\n",
    "browser.visit(url)\n",
    "\n",
    "html = browser.html\n",
    "soup = BeautifulSoup(html, 'html.parser')\n",
    "\n",
    "featured_image_link = url + soup.find('img', class_=\"headerimage\")[\"src\"]\n",
    "\n",
    "listings['featured_image'] = featured_image_link\n",
    "######################################################################\n",
    "######################################################################\n",
    "# url for reading the SS table with state names and abbreviations\n",
    "# url for reading the SS table with state names and abbreviations\n",
    "url = \"https://galaxyfacts-mars.com/\"\n",
    "\n",
    "facts_about_mars = pd.read_html(url)\n",
    "\n",
    "mars_facts_df = pd.DataFrame(facts_about_mars)\n",
    "\n",
    "## DataFrames as HTML\n",
    "mars_planet_profile_html = mars_facts_df.to_html()\n",
    "\n",
    "#### removing unwanted newlines to clean up the table.\n",
    "mars_planet_profile_html.replace('\\n', '')\n",
    "\n",
    "# show table\n",
    "mars_planet_profile_html\n",
    "\n",
    "listings[\"mars_table\"] = mars_planet_profile_html\n",
    "######################################################################\n",
    "\n",
    "######################################################################\n",
    "# grabbing all links to the images on homepage\n",
    "links = browser.find_by_css(\"a.product-item img\")\n",
    "\n",
    "# Create a Beautiful Soup object, pass in our HTML, and call 'html.parser'\n",
    "soup = BeautifulSoup(html, \"html.parser\")\n",
    "\n",
    "# finding the the title and link of every image\n",
    "for i in range(len(links)):\n",
    "    results = {}\n",
    "\n",
    "    browser.find_by_css(\"a.product-item img\")[i].click()\n",
    "    # link.click()\n",
    "    time.sleep(1)\n",
    "    # appending the scrapped data to the results dictionary\n",
    "    element = browser.links.find_by_text(\"Original\").first\n",
    "    listings[\"title\"] = browser.find_by_css(\"h2.title\").text\n",
    "    listings[\"img_url\"] = element[\"href\"]\n",
    "\n",
    "    # appening the results dictionary into the img_urls list\n",
    "    #listings.append(results)\n",
    "    browser.back()\n",
    "    time.sleep(1)\n",
    "\n",
    "# Build our dictionary for the headline, price, and neighborhood from our scraped data\n",
    "\n",
    "# Quit the browser\n",
    "#browser.quit()\n",
    "\n",
    "# Return our dictionary\n"
   ]
  },
  {
   "cell_type": "code",
   "execution_count": 9,
   "id": "e6b61f27",
   "metadata": {},
   "outputs": [
    {
     "data": {
      "text/plain": [
       "{'featured_image': 'https://spaceimages-mars.com/image/featured/mars3.jpg',\n",
       " 'mars_table': '<table border=\"1\" class=\"dataframe\">\\n  <thead>\\n    <tr style=\"text-align: right;\">\\n      <th></th>\\n      <th>0</th>\\n    </tr>\\n  </thead>\\n  <tbody>\\n    <tr>\\n      <th>0</th>\\n      <td>0                1                2\\n0  Mars - Earth Comparison             Mars            Earth\\n1                Diameter:         6,779 km        12,742 km\\n2                    Mass:  6.39 × 10^23 kg  5.97 × 10^24 kg\\n3                   Moons:                2                1\\n4       Distance from Sun:   227,943,824 km   149,598,262 km\\n5          Length of Year:   687 Earth days      365.24 days\\n6             Temperature:     -87 to -5 °C      -88 to 58°C</td>\\n    </tr>\\n    <tr>\\n      <th>1</th>\\n      <td>0                              1\\n0  Equatorial Diameter:                       6,792 km\\n1       Polar Diameter:                       6,752 km\\n2                 Mass:  6.39 × 10^23 kg (0.11 Earths)\\n3                Moons:          2 ( Phobos &amp; Deimos )\\n4       Orbit Distance:       227,943,824 km (1.38 AU)\\n5         Orbit Period:           687 days (1.9 years)\\n6  Surface Temperature:                   -87 to -5 °C\\n7         First Record:              2nd millennium BC\\n8          Recorded By:           Egyptian astronomers</td>\\n    </tr>\\n  </tbody>\\n</table>'}"
      ]
     },
     "execution_count": 9,
     "metadata": {},
     "output_type": "execute_result"
    }
   ],
   "source": [
    "listings"
   ]
  },
  {
   "cell_type": "code",
   "execution_count": 43,
   "id": "e21c634f",
   "metadata": {},
   "outputs": [
    {
     "name": "stdout",
     "output_type": "stream",
     "text": [
      "\n"
     ]
    },
    {
     "name": "stderr",
     "output_type": "stream",
     "text": [
      "[WDM] - ====== WebDriver manager ======\n",
      "INFO:WDM:====== WebDriver manager ======\n",
      "[WDM] - Current google-chrome version is 103.0.5060\n",
      "INFO:WDM:Current google-chrome version is 103.0.5060\n",
      "[WDM] - Get LATEST chromedriver version for 103.0.5060 google-chrome\n",
      "INFO:WDM:Get LATEST chromedriver version for 103.0.5060 google-chrome\n",
      "[WDM] - Driver [/Users/user/.wdm/drivers/chromedriver/mac64/103.0.5060.53/chromedriver] found in cache\n",
      "INFO:WDM:Driver [/Users/user/.wdm/drivers/chromedriver/mac64/103.0.5060.53/chromedriver] found in cache\n",
      "/Users/user/opt/anaconda3/envs/PythonData/lib/python3.7/site-packages/pandas/core/internals/construction.py:540: VisibleDeprecationWarning: Creating an ndarray from ragged nested sequences (which is a list-or-tuple of lists-or-tuples-or ndarrays with different lengths or shapes) is deprecated. If you meant to do this, you must specify 'dtype=object' when creating the ndarray.\n",
      "  values = np.array([convert(v) for v in values])\n"
     ]
    }
   ],
   "source": [
    "# Automates browser actions\n",
    "from splinter import Browser\n",
    "\n",
    "# Parses the HTML\n",
    "from bs4 import BeautifulSoup\n",
    "import pandas as pd\n",
    "import time\n",
    "# For scraping with Chrome\n",
    "from webdriver_manager.chrome import ChromeDriverManager\n",
    "from flask import jsonify\n",
    "\n",
    "\n",
    "\n",
    "# Setup splinter\n",
    "# browser = init_browser()\n",
    "executable_path = {'executable_path': ChromeDriverManager().install()}\n",
    "browser = Browser('chrome', **executable_path, headless=False)\n",
    "\n",
    "# Set an empty dict for listings that we can save to Mongo\n",
    "listings = {}\n",
    "\n",
    "# The url we want to scrape\n",
    "url = \"https://marshemispheres.com/\"\n",
    "\n",
    "# Call visit on our browser and pass in the URL we want to scrape   \n",
    "browser.visit(url)\n",
    "\n",
    "# Let it sleep for 1 second\n",
    "time.sleep(1)\n",
    "\n",
    "# Return all the HTML on our page\n",
    "html = browser.html\n",
    "\n",
    "######################################################################\n",
    "# grabbing all links to the images on homepage\n",
    "links = browser.find_by_css(\"a.product-item img\")\n",
    "\n",
    "# Create a Beautiful Soup object, pass in our HTML, and call 'html.parser'\n",
    "soup = BeautifulSoup(html, \"html.parser\")\n",
    "\n",
    "# finding the the title and link of every image\n",
    "for i in range(len(links)):\n",
    "    results = {}\n",
    "\n",
    "    browser.find_by_css(\"a.product-item img\")[i].click()\n",
    "    # link.click()\n",
    "    time.sleep(1)\n",
    "    # appending the scrapped data to the results dictionary\n",
    "    element = browser.links.find_by_text(\"Original\").first\n",
    "    results[\"title\"] = browser.find_by_css(\"h2.title\").text\n",
    "    results[\"img_url\"] = element[\"href\"]\n",
    "    \n",
    "    listings.update(results)\n",
    "\n",
    "    # appening the results dictionary into the img_urls list\n",
    "    #listings.append(results)\n",
    "    browser.back()\n",
    "    time.sleep(1)\n",
    "\n",
    "# Build our dictionary for the headline, price, and neighborhood from our scraped data\n",
    "\n",
    "# Quit the browser\n",
    "#browser.quit()\n",
    "\n",
    "######################################################################\n",
    "######################################################################\n",
    "url = 'https://spaceimages-mars.com/'\n",
    "browser.visit(url)\n",
    "\n",
    "html = browser.html\n",
    "soup = BeautifulSoup(html, 'html.parser')\n",
    "\n",
    "featured_image_link = url + soup.find('img', class_=\"headerimage\")[\"src\"]\n",
    "\n",
    "listings['featured_image'] = featured_image_link\n",
    "######################################################################\n",
    "######################################################################\n",
    "url = \"https://galaxyfacts-mars.com/\"\n",
    "\n",
    "facts_about_mars = pd.read_html(url)\n",
    "\n",
    "mars_facts_df = pd.DataFrame(facts_about_mars)\n",
    "\n",
    "## DataFrames as HTML\n",
    "mars_planet_profile_html = mars_facts_df.to_html()\n",
    "\n",
    "#### removing unwanted newlines to clean up the table.\n",
    "# mars_planet_profile_html.replace('\\n', '')\n",
    "\n",
    "# show table\n",
    "mars_planet_profile_html\n",
    "\n",
    "listings[\"mars_table\"] = mars_planet_profile_html\n",
    "######################################################################\n",
    "######################################################################\n",
    "\n",
    "url = 'https://redplanetscience.com/'\n",
    "browser.visit(url)\n",
    "\n",
    "headlines = []\n",
    "\n",
    "# scrapping the data\n",
    "for x in range(0, 15):\n",
    "    time.sleep(0.1)\n",
    "\n",
    "    html = browser.html\n",
    "    soup = BeautifulSoup(html, 'html.parser')\n",
    "\n",
    "    results = {}\n",
    "\n",
    "    titles = soup.findAll(name='div', attrs=\"content_title\")\n",
    "    # for title in titles:\n",
    "    # print(title.text)\n",
    "\n",
    "    results['titles'] = browser.find_by_css(\"div.content_title\")[x].text\n",
    "    results['teaser'] = browser.find_by_css(\"div.article_teaser_body\")[x].text\n",
    "\n",
    "    # for headline, teaser_text in zip (headline_titles, teaser_paragraph):\n",
    "    # results['titles'] = headline.text\n",
    "    # results['teaser'] = teaser_text.text\n",
    "    listings.update(results)\n",
    "    headlines.append(results)\n",
    "    time.sleep(0.1)\n",
    "\n",
    "# browser.quit()\n",
    "######################################################################\n",
    "######################################################################\n",
    "\n",
    "######################################################################\n",
    "\n",
    "# Return our dictionary\n",
    "\n"
   ]
  },
  {
   "cell_type": "code",
   "execution_count": 12,
   "id": "06a66ec7",
   "metadata": {},
   "outputs": [
    {
     "name": "stdout",
     "output_type": "stream",
     "text": [
      "\n"
     ]
    },
    {
     "name": "stderr",
     "output_type": "stream",
     "text": [
      "[WDM] - ====== WebDriver manager ======\n",
      "INFO:WDM:====== WebDriver manager ======\n",
      "[WDM] - Current google-chrome version is 103.0.5060\n",
      "INFO:WDM:Current google-chrome version is 103.0.5060\n",
      "[WDM] - Get LATEST chromedriver version for 103.0.5060 google-chrome\n",
      "INFO:WDM:Get LATEST chromedriver version for 103.0.5060 google-chrome\n",
      "[WDM] - Driver [/Users/user/.wdm/drivers/chromedriver/mac64/103.0.5060.53/chromedriver] found in cache\n",
      "INFO:WDM:Driver [/Users/user/.wdm/drivers/chromedriver/mac64/103.0.5060.53/chromedriver] found in cache\n"
     ]
    },
    {
     "name": "stdout",
     "output_type": "stream",
     "text": [
      "[{'title': 'Cerberus Hemisphere Enhanced', 'img_url': 'https://marshemispheres.com/images/cerberus_enhanced.tif'}, {'title': 'Schiaparelli Hemisphere Enhanced', 'img_url': 'https://marshemispheres.com/images/schiaparelli_enhanced.tif'}, {'title': 'Syrtis Major Hemisphere Enhanced', 'img_url': 'https://marshemispheres.com/images/syrtis_major_enhanced.tif'}, {'title': 'Valles Marineris Hemisphere Enhanced', 'img_url': 'https://marshemispheres.com/images/valles_marineris_enhanced.tif'}]\n"
     ]
    },
    {
     "name": "stderr",
     "output_type": "stream",
     "text": [
      "/Users/user/opt/anaconda3/envs/PythonData/lib/python3.7/site-packages/pandas/core/internals/construction.py:540: VisibleDeprecationWarning: Creating an ndarray from ragged nested sequences (which is a list-or-tuple of lists-or-tuples-or ndarrays with different lengths or shapes) is deprecated. If you meant to do this, you must specify 'dtype=object' when creating the ndarray.\n",
      "  values = np.array([convert(v) for v in values])\n"
     ]
    }
   ],
   "source": [
    "# Setup splinter\n",
    "# browser = init_browser()\n",
    "executable_path = {'executable_path': ChromeDriverManager().install()}\n",
    "browser = Browser('chrome', **executable_path, headless=False)\n",
    "\n",
    "# Set an empty dict for listings that we can save to Mongo\n",
    "# listings = {\"planet_images\":img_urls}\n",
    "\n",
    "# The url we want to scrape\n",
    "url = \"https://marshemispheres.com/\"\n",
    "\n",
    "# Call visit on our browser and pass in the URL we want to scrape\n",
    "browser.visit(url)\n",
    "\n",
    "# Let it sleep for 1 second\n",
    "time.sleep(1)\n",
    "\n",
    "# Return all the HTML on our page\n",
    "html = browser.html\n",
    "\n",
    "######################################################################\n",
    "\n",
    "# grabbing all links to the images on homepage\n",
    "links = browser.find_by_css(\"a.product-item img\")\n",
    "\n",
    "img_urls = []\n",
    "\n",
    "# finding the the title and link of every image\n",
    "for i in range(len(links)):\n",
    "    marshemispheres = {}\n",
    "\n",
    "    browser.find_by_css(\"a.product-item img\")[i].click()\n",
    "    # link.click()\n",
    "    time.sleep(1)\n",
    "    # appending the scrapped data to the results dictionary\n",
    "    element = browser.links.find_by_text(\"Original\").first\n",
    "    marshemispheres[\"title\"] = browser.find_by_css(\"h2.title\").text\n",
    "    marshemispheres[\"img_url\"] = element[\"href\"]\n",
    "\n",
    "    # appening the results dictionary into the img_urls list\n",
    "    img_urls.append(marshemispheres)\n",
    "    browser.back()\n",
    "    time.sleep(1)\n",
    "# close the browser\n",
    "# browser.quit()\n",
    "print(img_urls)\n",
    "\n",
    "# Build our dictionary for the headline, price, and neighborhood from our scraped data\n",
    "\n",
    "# Quit the browser\n",
    "# browser.quit()\n",
    "\n",
    "######################################################################\n",
    "######################################################################\n",
    "url = 'https://spaceimages-mars.com/'\n",
    "browser.visit(url)\n",
    "\n",
    "html = browser.html\n",
    "soup = BeautifulSoup(html, 'html.parser')\n",
    "\n",
    "featured_image_link = url + soup.find('img', class_=\"headerimage\")[\"src\"]\n",
    "\n",
    "# listings['featured_image'] = featured_image_link\n",
    "######################################################################\n",
    "######################################################################\n",
    "url = \"https://galaxyfacts-mars.com/\"\n",
    "\n",
    "facts_about_mars = pd.read_html(url)\n",
    "\n",
    "mars_facts_df = pd.DataFrame(facts_about_mars)\n",
    "\n",
    "## DataFrames as HTML\n",
    "mars_planet_profile_html = mars_facts_df.to_html()\n",
    "\n",
    "#### removing unwanted newlines to clean up the table.\n",
    "mars_planet_profile_html.replace('\\n', '')\n",
    "\n",
    "# show table\n",
    "mars_planet_profile_html\n",
    "\n",
    "# listings[\"mars_table\"] = mars_planet_profile_html\n",
    "######################################################################\n",
    "######################################################################\n",
    "\n",
    "# browser.quit()\n",
    "######################################################################\n",
    "######################################################################\n",
    "\n",
    "url = 'https://redplanetscience.com/'\n",
    "browser.visit(url)\n",
    "\n",
    "headlines = []\n",
    "\n",
    "# scrapping the data\n",
    "for x in range(0, 15):\n",
    "    time.sleep(1)\n",
    "\n",
    "    html = browser.html\n",
    "    soup = BeautifulSoup(html, 'html.parser')\n",
    "\n",
    "    redplanet = {}\n",
    "\n",
    "    titles = soup.findAll(name='div', attrs=\"content_title\")\n",
    "    # for title in titles:\n",
    "    # print(title.text)\n",
    "\n",
    "    redplanet['titles'] = browser.find_by_css(\"div.content_title\")[x].text\n",
    "    redplanet['teaser'] = browser.find_by_css(\"div.article_teaser_body\")[x].text\n",
    "\n",
    "    headlines.append(redplanet)\n",
    "\n",
    "    # for headline, teaser_text in zip (headline_titles, teaser_paragraph):\n",
    "    # results['titles'] = headline.text\n",
    "    # results['teaser'] = teaser_text.text\n",
    "\n",
    "    # headlines.append(results)\n",
    "    # time.sleep(2)\n",
    "\n",
    "    # browser.quit()\n",
    "\n",
    "\n",
    "\n",
    "\n",
    "    ######################################################################\n",
    "listings = {\"planet_images\":img_urls,\n",
    "            \"featured_image\":featured_image_link,\n",
    "            \"mars_table\":mars_planet_profile_html,\n",
    "            \"latest_news\":headlines\n",
    "            }"
   ]
  },
  {
   "cell_type": "code",
   "execution_count": 11,
   "id": "01c80fd3",
   "metadata": {},
   "outputs": [
    {
     "data": {
      "text/plain": [
       "{'planet_images': [{'title': 'Cerberus Hemisphere Enhanced',\n",
       "   'img_url': 'https://marshemispheres.com/images/cerberus_enhanced.tif'},\n",
       "  {'title': 'Schiaparelli Hemisphere Enhanced',\n",
       "   'img_url': 'https://marshemispheres.com/images/schiaparelli_enhanced.tif'},\n",
       "  {'title': 'Syrtis Major Hemisphere Enhanced',\n",
       "   'img_url': 'https://marshemispheres.com/images/syrtis_major_enhanced.tif'},\n",
       "  {'title': 'Valles Marineris Hemisphere Enhanced',\n",
       "   'img_url': 'https://marshemispheres.com/images/valles_marineris_enhanced.tif'}],\n",
       " 'featured_image': 'https://spaceimages-mars.com/image/featured/mars2.jpg',\n",
       " 'mars_table': '<table border=\"1\" class=\"dataframe\">\\n  <thead>\\n    <tr style=\"text-align: right;\">\\n      <th></th>\\n      <th>0</th>\\n    </tr>\\n  </thead>\\n  <tbody>\\n    <tr>\\n      <th>0</th>\\n      <td>0                1                2\\n0  Mars - Earth Comparison             Mars            Earth\\n1                Diameter:         6,779 km        12,742 km\\n2                    Mass:  6.39 × 10^23 kg  5.97 × 10^24 kg\\n3                   Moons:                2                1\\n4       Distance from Sun:   227,943,824 km   149,598,262 km\\n5          Length of Year:   687 Earth days      365.24 days\\n6             Temperature:     -87 to -5 °C      -88 to 58°C</td>\\n    </tr>\\n    <tr>\\n      <th>1</th>\\n      <td>0                              1\\n0  Equatorial Diameter:                       6,792 km\\n1       Polar Diameter:                       6,752 km\\n2                 Mass:  6.39 × 10^23 kg (0.11 Earths)\\n3                Moons:          2 ( Phobos &amp; Deimos )\\n4       Orbit Distance:       227,943,824 km (1.38 AU)\\n5         Orbit Period:           687 days (1.9 years)\\n6  Surface Temperature:                   -87 to -5 °C\\n7         First Record:              2nd millennium BC\\n8          Recorded By:           Egyptian astronomers</td>\\n    </tr>\\n  </tbody>\\n</table>',\n",
       " 'latest_news': [{'titles': \"Hear Audio From NASA's Perseverance As It Travels Through Deep Space\",\n",
       "   'teaser': \"The first to be rigged with microphones, the agency's latest Mars rover picked up the subtle sounds of its own inner workings during interplanetary flight.\"},\n",
       "  {'titles': 'NASA to Broadcast Mars 2020 Perseverance Launch, Prelaunch Activities',\n",
       "   'teaser': 'Starting July 27, news activities will cover everything from mission engineering and science to returning samples from Mars to, of course, the launch itself.'},\n",
       "  {'titles': \"A Year of Surprising Science From NASA's InSight Mars Mission\",\n",
       "   'teaser': \"A batch of new papers summarizes the lander's findings above and below the surface of the Red Planet.\"},\n",
       "  {'titles': 'MOXIE Could Help Future Rockets Launch Off Mars',\n",
       "   'teaser': \"NASA's Perseverance rover carries a device to convert Martian air into oxygen that, if produced on a larger scale, could be used not just for breathing, but also for fuel.\"},\n",
       "  {'titles': 'NASA Establishes Board to Initially Review Mars Sample Return Plans',\n",
       "   'teaser': 'The board will assist with analysis of current plans and goals for one of the most difficult missions humanity has ever undertaken.'},\n",
       "  {'titles': 'NASA to Reveal Name of Its Next Mars Rover',\n",
       "   'teaser': \"After a months-long contest among students to name NASA's newest Mars rover, the agency will reveal the winning name — and the winning student — this Thursday.\"},\n",
       "  {'titles': \"NASA's InSight Flexes Its Arm While Its 'Mole' Hits Pause\",\n",
       "   'teaser': \"Now that the lander's robotic arm has helped the mole get underground, it will resume science activities that have been on hold.\"},\n",
       "  {'titles': 'Join NASA for the Launch of the Mars 2020 Perseverance Rover',\n",
       "   'teaser': 'No matter where you live, choose from a menu of activities to join NASA as we \"Countdown to Mars\" and launch the Perseverance rover to the Red Planet.'},\n",
       "  {'titles': \"NASA's Perseverance Rover Attached to Atlas V Rocket\",\n",
       "   'teaser': 'Ready for its launch later in the month, the Mars-bound rover will touch terra firma no more.'},\n",
       "  {'titles': 'NASA Administrator Statement on Moon to Mars Initiative, FY 2021 Budget',\n",
       "   'teaser': \"Jim Bridenstine addresses NASA's ambitious plans for the coming years, including Mars Sample Return.\"},\n",
       "  {'titles': 'NASA Wins Two Emmy Awards for Interactive Mission Coverage',\n",
       "   'teaser': \"NASA-JPL's coverage of the Mars InSight landing earns one of the two wins, making this the NASA center's second Emmy.\"},\n",
       "  {'titles': \"NASA's Perseverance Rover Will Peer Beneath Mars' Surface\",\n",
       "   'teaser': \"The agency's newest rover will use the first ground-penetrating radar instrument on the Martian surface to help search for signs of past microbial life.\"},\n",
       "  {'titles': \"Alabama High School Student Names NASA's Mars Helicopter\",\n",
       "   'teaser': \"Vaneeza Rupani's essay was chosen as the name for the small spacecraft, which will mark NASA's first attempt at powered flight on another planet.\"},\n",
       "  {'titles': 'My Culture, My Voice',\n",
       "   'teaser': 'In honor of Hispanic Heritage Month, Christina Hernandez, an instrument engineer on the Mars 2020 mission, talks about her childhood and journey to NASA.'},\n",
       "  {'titles': \"NASA InSight's 'Mole' Is Out of Sight\",\n",
       "   'teaser': \"Now that the heat probe is just below the Martian surface, InSight's arm will scoop some additional soil on top to help it keep digging so it can take Mars' temperature.\"}]}"
      ]
     },
     "execution_count": 11,
     "metadata": {},
     "output_type": "execute_result"
    }
   ],
   "source": [
    "listings"
   ]
  },
  {
   "cell_type": "code",
   "execution_count": null,
   "id": "cf22dc34",
   "metadata": {},
   "outputs": [],
   "source": [
    "https://spaceimages-mars.com/image/featured/mars1.jpg"
   ]
  }
 ],
 "metadata": {
  "kernelspec": {
   "display_name": "Python [conda env:PythonData]",
   "language": "python",
   "name": "conda-env-PythonData-py"
  },
  "language_info": {
   "codemirror_mode": {
    "name": "ipython",
    "version": 3
   },
   "file_extension": ".py",
   "mimetype": "text/x-python",
   "name": "python",
   "nbconvert_exporter": "python",
   "pygments_lexer": "ipython3",
   "version": "3.7.11"
  }
 },
 "nbformat": 4,
 "nbformat_minor": 5
}
